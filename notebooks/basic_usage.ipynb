{
 "cells": [
  {
   "cell_type": "markdown",
   "metadata": {},
   "source": [
    "# CPP BIDS demo\n",
    "\n",
    "This is an interactive demo of how to use CPP SPM.\n",
    "\n",
    "If you are not familiar with jupyter notebook here is a link on how to set it up -- > LINK\n",
    "\n",
    "You can also use Binder to try this online -- > LINK\n",
    "\n",
    "## Graphic output\n",
    "\n",
    "When using on Binder some of the SPM graphic output will not be generated, as SPM takes this environment as being command line only. "
   ]
  },
  {
   "cell_type": "code",
   "execution_count": null,
   "metadata": {
    "scrolled": true
   },
   "outputs": [],
   "source": [
    "% Add SPM to the path. In case you are running this locally\n",
    "% In a matlab prompt, you can type this to find the answer --> spm('dir')\n",
    "addpath('/home/remi/matlab/SPM/spm12');\n",
    "\n",
    "WD = pwd;\n",
    "\n",
    "% Add all the functions that are in the sub directories that we need for CPP_SPM\n",
    "addpath(genpath(fullfile(WD, '..', 'src')));\n",
    "addpath(genpath(fullfile(WD, '..', 'lib')));\n",
    "\n",
    "% Make sure it is all set up\n",
    "checkDependencies();"
   ]
  },
  {
   "cell_type": "markdown",
   "metadata": {},
   "source": [
    "## Download data\n",
    "\n",
    "We are getting the `Mother of All Experiments` (MoAE) from the SPM website.\n",
    "\n",
    "It is good a **old**-fashioned block design with an auditory task."
   ]
  },
  {
   "cell_type": "code",
   "execution_count": null,
   "metadata": {},
   "outputs": [],
   "source": [
    "% URL of the data set to download\n",
    "URL = 'http://www.fil.ion.ucl.ac.uk/spm/download/data/MoAEpilot/MoAEpilot.bids.zip';\n",
    "\n",
    "%% Get data\n",
    "fprintf('%-40s:', 'Downloading dataset...');\n",
    "urlwrite(URL, 'MoAEpilot.zip');\n",
    "unzip('MoAEpilot.zip', fullfile(WD, 'output'));"
   ]
  },
  {
   "cell_type": "code",
   "execution_count": null,
   "metadata": {
    "scrolled": true
   },
   "outputs": [],
   "source": [
    "!tree output"
   ]
  },
  {
   "cell_type": "markdown",
   "metadata": {},
   "source": [
    "### Details of the MRI `func` sequence"
   ]
  },
  {
   "cell_type": "code",
   "execution_count": null,
   "metadata": {
    "scrolled": false
   },
   "outputs": [],
   "source": [
    "!cat output/MoAEpilot/task-auditory_bold.json"
   ]
  },
  {
   "cell_type": "markdown",
   "metadata": {},
   "source": [
    "### Experimental design"
   ]
  },
  {
   "cell_type": "code",
   "execution_count": null,
   "metadata": {},
   "outputs": [],
   "source": [
    "!cat output/MoAEpilot/sub-01/func/sub-01_task-auditory_events.tsv"
   ]
  },
  {
   "cell_type": "markdown",
   "metadata": {},
   "source": [
    "## Preparing the configuration for the analysis\n"
   ]
  },
  {
   "cell_type": "code",
   "execution_count": null,
   "metadata": {
    "scrolled": false
   },
   "outputs": [],
   "source": [
    "% task to analyze\n",
    "cfg.taskName = 'auditory';\n",
    "\n",
    "% Uncomment the line below to run preprocessing in \"native\" space.\n",
    "% - use realign and unwarp\n",
    "% - don't do normalization\n",
    "cfg.space = 'individual';\n",
    "\n",
    "% The directory where the data are located\n",
    "cfg.dataDir = fullfile(WD, 'output', 'MoAEpilot');\n",
    "\n",
    "% JSON file defining the GLM we will run and the contrasts we will compute\n",
    "cfg.model.file = fullfile(WD, '..', 'demos', 'MoAE', 'models', 'model-MoAE_smdl.json');\n",
    "\n",
    "% specify the result to compute\n",
    "% contrast for activations\n",
    "cfg.result.Steps(1) = struct( ...\n",
    "                           'Level',  'subject', ...\n",
    "                           'Contrasts', struct( ...\n",
    "                                               'Name', 'listening', ... \n",
    "                                               'Mask', false, ...\n",
    "                                               'MC', 'FWE', ... FWE, none, FDR\n",
    "                                               'p', 0.05, ...\n",
    "                                               'k', 0, ...\n",
    "                                               'NIDM', false));\n",
    "% contrast for deactivations\n",
    "cfg.result.Steps(1).Contrasts(2) = struct( ...\n",
    "                                        'Name', 'listening_inf_baseline', ...\n",
    "                                        'Mask', false, ...\n",
    "                                        'MC', 'none', ... FWE, none, FDR\n",
    "                                        'p', 0.01, ...\n",
    "                                        'k', 0, ...\n",
    "                                        'NIDM', false);\n",
    "\n",
    "cfg = checkOptions(cfg);\n",
    "saveOptions(cfg);"
   ]
  },
  {
   "cell_type": "markdown",
   "metadata": {},
   "source": [
    "### Check the configuration\n",
    "\n",
    "`cfg = checkOptions(cfg)` will add some defaults that you might not have set but that you can still change \n",
    "before running your analysis. "
   ]
  },
  {
   "cell_type": "code",
   "execution_count": null,
   "metadata": {},
   "outputs": [],
   "source": [
    "cfg"
   ]
  },
  {
   "cell_type": "markdown",
   "metadata": {},
   "source": [
    "## Getting a report on the data and preparing the derivatives"
   ]
  },
  {
   "cell_type": "code",
   "execution_count": null,
   "metadata": {
    "scrolled": true
   },
   "outputs": [],
   "source": [
    "% TODO\n",
    "reportBIDS(cfg)"
   ]
  },
  {
   "cell_type": "code",
   "execution_count": null,
   "metadata": {
    "scrolled": true
   },
   "outputs": [],
   "source": [
    "bidsCopyRawFolder(cfg, 1)"
   ]
  },
  {
   "cell_type": "code",
   "execution_count": null,
   "metadata": {
    "scrolled": true
   },
   "outputs": [],
   "source": [
    "!tree output/"
   ]
  },
  {
   "cell_type": "markdown",
   "metadata": {},
   "source": [
    "## Slice timing correction\n",
    "\n",
    "This data set has no information relevant to slice timing so this step will be ignored even if you try to run it."
   ]
  },
  {
   "cell_type": "code",
   "execution_count": null,
   "metadata": {},
   "outputs": [],
   "source": [
    "bidsSTC(cfg)"
   ]
  },
  {
   "cell_type": "markdown",
   "metadata": {},
   "source": [
    "## Spatial preprocessing\n",
    "\n",
    "This will run:\n",
    "\n",
    "- realign\n",
    "- coregistration of `func` data to `anat`\n",
    "- segmentation of `anat`\n",
    "- skullstripping of `anat` and creation of brain mask in native space\n",
    "- normalization to MNI will be run unless you have set `opt.space = 'individual'` (`opt.space = 'MNI'` is the defaut)."
   ]
  },
  {
   "cell_type": "code",
   "execution_count": null,
   "metadata": {},
   "outputs": [],
   "source": [
    "% Be patient this one takes a while\n",
    "bidsSpatialPrepro(cfg)"
   ]
  },
  {
   "cell_type": "code",
   "execution_count": null,
   "metadata": {},
   "outputs": [],
   "source": [
    "!tree output"
   ]
  },
  {
   "cell_type": "markdown",
   "metadata": {},
   "source": [
    "### Log files"
   ]
  },
  {
   "cell_type": "code",
   "execution_count": null,
   "metadata": {},
   "outputs": [],
   "source": [
    "matFile = dir('output/derivatives/SPM12_CPPL/JOBS/auditory/sub-01/*_jobs_matlabbatch_SPM12_spatial_preprocessing-MNI.mat');\n",
    "load(fullfile(pwd, 'output/derivatives/SPM12_CPPL/JOBS/auditory/sub-01/', matFile(1).name))"
   ]
  },
  {
   "cell_type": "code",
   "execution_count": null,
   "metadata": {},
   "outputs": [],
   "source": [
    "matlabbatch{2}.spm.spatial.realign.estwrite"
   ]
  },
  {
   "cell_type": "markdown",
   "metadata": {},
   "source": [
    "## Quality control\n",
    "\n",
    "This relies on [`spmup`](https://github.com/CPernet/spmup)"
   ]
  },
  {
   "cell_type": "code",
   "execution_count": null,
   "metadata": {},
   "outputs": [],
   "source": [
    "% The following will not run fully on Octave for now\n",
    "bidsResliceTpmToFunc(cfg)"
   ]
  },
  {
   "cell_type": "code",
   "execution_count": null,
   "metadata": {},
   "outputs": [],
   "source": [
    "% The following will not run fully on Octave for now (because of some of the functions used by spmup)\n",
    "anatomicalQA(cfg)"
   ]
  },
  {
   "cell_type": "code",
   "execution_count": null,
   "metadata": {},
   "outputs": [],
   "source": [
    "% The following will not run fully on Octave for now (because of some of the functions used by spmup)\n",
    "functionalQA(cfg)"
   ]
  },
  {
   "cell_type": "code",
   "execution_count": null,
   "metadata": {},
   "outputs": [],
   "source": [
    "% Smoothing to apply\n",
    "FWHM = 6;\n",
    "bidsSmoothing(FWHM, cfg);"
   ]
  },
  {
   "cell_type": "code",
   "execution_count": null,
   "metadata": {},
   "outputs": [],
   "source": [
    "!tree output/"
   ]
  },
  {
   "cell_type": "markdown",
   "metadata": {},
   "source": [
    "## BIDS model file\n",
    "\n",
    "Let's have a look at the JSON file that defines the GLM we will run and the contrast we will compute."
   ]
  },
  {
   "cell_type": "code",
   "execution_count": null,
   "metadata": {},
   "outputs": [],
   "source": [
    "!cat ../demos/MoAE/models/model-MoAE_smdl.json"
   ]
  },
  {
   "cell_type": "markdown",
   "metadata": {},
   "source": [
    "## Run subject level GLM\n",
    "\n"
   ]
  },
  {
   "cell_type": "code",
   "execution_count": null,
   "metadata": {},
   "outputs": [],
   "source": [
    "bidsFFX('specifyAndEstimate', cfg, FWHM);"
   ]
  },
  {
   "cell_type": "code",
   "execution_count": null,
   "metadata": {},
   "outputs": [],
   "source": [
    "!tree output/derivatives/SPM12_CPPL/sub-01/stats"
   ]
  },
  {
   "cell_type": "markdown",
   "metadata": {},
   "source": [
    "## Compute contrasts"
   ]
  },
  {
   "cell_type": "code",
   "execution_count": null,
   "metadata": {},
   "outputs": [],
   "source": [
    "cfg.result.Steps(1).Contrasts(1)\n",
    "cfg.result.Steps(1).Contrasts(2)"
   ]
  },
  {
   "cell_type": "code",
   "execution_count": null,
   "metadata": {},
   "outputs": [],
   "source": [
    "bidsFFX('contrasts', cfg, FWHM);"
   ]
  },
  {
   "cell_type": "markdown",
   "metadata": {},
   "source": [
    "## Prepare results and package them as NIDM-results"
   ]
  },
  {
   "cell_type": "code",
   "execution_count": null,
   "metadata": {},
   "outputs": [],
   "source": [
    "bidsResults(cfg, FWHM);"
   ]
  },
  {
   "cell_type": "code",
   "execution_count": null,
   "metadata": {},
   "outputs": [],
   "source": [
    "cfg.result.Steps(1).Contrasts(1).NIDM = true;"
   ]
  },
  {
   "cell_type": "code",
   "execution_count": null,
   "metadata": {},
   "outputs": [],
   "source": [
    "bidsResults(cfg, FWHM);"
   ]
  }
 ],
 "metadata": {
  "kernelspec": {
   "display_name": "Octave",
   "language": "octave",
   "name": "octave"
  },
  "language_info": {
   "file_extension": ".m",
   "help_links": [
    {
     "text": "GNU Octave",
     "url": "https://www.gnu.org/software/octave/support.html"
    },
    {
     "text": "Octave Kernel",
     "url": "https://github.com/Calysto/octave_kernel"
    },
    {
     "text": "MetaKernel Magics",
     "url": "https://metakernel.readthedocs.io/en/latest/source/README.html"
    }
   ],
   "mimetype": "text/x-octave",
   "name": "octave",
   "version": "4.2.2"
  }
 },
 "nbformat": 4,
 "nbformat_minor": 4
}
